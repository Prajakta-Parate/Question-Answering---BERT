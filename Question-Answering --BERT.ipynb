{
 "cells": [
  {
   "cell_type": "code",
   "execution_count": 1,
   "metadata": {},
   "outputs": [
    {
     "name": "stderr",
     "output_type": "stream",
     "text": [
      "WARNING:root:Limited tf.compat.v2.summary API due to missing TensorBoard installation.\n",
      "WARNING:root:Limited tf.compat.v2.summary API due to missing TensorBoard installation.\n",
      "WARNING:root:Limited tf.compat.v2.summary API due to missing TensorBoard installation.\n",
      "WARNING:root:Limited tf.compat.v2.summary API due to missing TensorBoard installation.\n",
      "WARNING:root:Limited tf.compat.v2.summary API due to missing TensorBoard installation.\n",
      "WARNING:root:Limited tf.compat.v2.summary API due to missing TensorBoard installation.\n",
      "WARNING:root:Limited tf.summary API due to missing TensorBoard installation.\n"
     ]
    }
   ],
   "source": [
    "#Import library\n",
    "\n",
    "from simpletransformers.question_answering import QuestionAnsweringModel\n",
    "\n",
    "import pandas as pd\n",
    "import requests\n",
    "import html2text\n",
    "from googlesearch import search\n",
    "import re\n",
    "from IPython.display import display\n",
    "import ipywidgets as widgets\n",
    "from bs4 import BeautifulSoup\n",
    "from markdown import markdown\n",
    "\n",
    "import warnings\n",
    "warnings.filterwarnings('ignore')"
   ]
  },
  {
   "cell_type": "code",
   "execution_count": 2,
   "metadata": {},
   "outputs": [],
   "source": [
    "model = QuestionAnsweringModel('distilbert','distilbert-base-uncased-distilled-squad', use_cuda=False)"
   ]
  },
  {
   "cell_type": "code",
   "execution_count": 3,
   "metadata": {},
   "outputs": [],
   "source": [
    "def predict_answer(model, question, contexts, seq_len=512, debug=False):\n",
    "    split_context = []\n",
    "    \n",
    "    if not isinstance(contexts, list):\n",
    "        contexts = [contexts]\n",
    "        \n",
    "    for context in contexts:\n",
    "        for i in range(0, len(context), seq_len):\n",
    "            split_context.append(context[i:i+seq_len])\n",
    "            \n",
    "    split_context = contexts\n",
    "    \n",
    "    f_data = []\n",
    "    \n",
    "    for i, c in enumerate(split_context):\n",
    "        f_data.append(\n",
    "        {'qas':\n",
    "            [{'question': question,\n",
    "              'id':i,\n",
    "              'answer':[{'text':' ', 'answer_start':0}],\n",
    "              'is_impossible':False}],\n",
    "            'context': c\n",
    "        })\n",
    "    prediction = model.predict(f_data)\n",
    "    \n",
    "    if debug:\n",
    "        print(prediction)\n",
    "        \n",
    "\n",
    "    t = [s for s in prediction[0]]\n",
    "    p = [s for s in prediction[1]]\n",
    "    \n",
    "    data = pd.DataFrame({'id': [t[i]['id'] for i in range(0,len(t))], 'answer': [t[i]['answer'][0] for i in range(0,len(t))],\n",
    "       'probability' : [p[i]['probability'][0] for i in range(0,len(p))]})\n",
    "    preds = data.loc[data['probability'].idxmax()]['answer']\n",
    "\n",
    "    if preds:\n",
    "        return preds\n",
    "    return 'No answer'"
   ]
  },
  {
   "cell_type": "code",
   "execution_count": 4,
   "metadata": {},
   "outputs": [],
   "source": [
    "def markdown_to_text(markdown_string):\n",
    "    html = markdown(markdown_string)\n",
    "    \n",
    "    html = re.sub(r'<pre>(.*?)</pre>',' ', html)\n",
    "    html = re.sub(r'<code>(.*?)</code>',' ',html)\n",
    "    \n",
    "    soup = BeautifulSoup(html, 'html.parser')\n",
    "    text = ''.join(soup.findAll(text=True))\n",
    "    \n",
    "    return text\n",
    "\n",
    "def format_text(text):\n",
    "    text = markdown_to_text(text)\n",
    "    text = text.replace('\\n',' ')\n",
    "    return text"
   ]
  },
  {
   "cell_type": "code",
   "execution_count": 5,
   "metadata": {},
   "outputs": [],
   "source": [
    "def query_pages(query, n=2):\n",
    "    return list(search(query, num=n, stop=10, pause=2))\n",
    "\n",
    "def query_to_text(query, n=2):\n",
    "    html_conv = html2text.HTML2Text()\n",
    "    html_conv.ignore_links = True\n",
    "    html_conv.escape_all = True\n",
    "\n",
    "    text = []\n",
    "    for link in query_pages(query, n=n):\n",
    "        req = requests.get(link, verify=False)\n",
    "        if req:\n",
    "            text.append(html_conv.handle(req.text))\n",
    "            text[-1] = format_text(text[-1])\n",
    "    return text"
   ]
  },
  {
   "cell_type": "code",
   "execution_count": 6,
   "metadata": {},
   "outputs": [],
   "source": [
    "def q_to_a(model, question,n=1, debug=False):\n",
    "    context = query_to_text(question)\n",
    "    pred = predict_answer(model, question, context, debug=debug)\n",
    "    return pred"
   ]
  },
  {
   "cell_type": "code",
   "execution_count": 7,
   "metadata": {},
   "outputs": [
    {
     "data": {
      "application/vnd.jupyter.widget-view+json": {
       "model_id": "b13f6c90b8204877946f182fef5fcbb0",
       "version_major": 2,
       "version_minor": 0
      },
      "text/plain": [
       "Text(value='', description='Question:')"
      ]
     },
     "metadata": {},
     "output_type": "display_data"
    },
    {
     "data": {
      "application/vnd.jupyter.widget-view+json": {
       "model_id": "9ceec328917f4b339bda931f6535e89a",
       "version_major": 2,
       "version_minor": 0
      },
      "text/plain": [
       "Button(description='Get an Answer', style=ButtonStyle())"
      ]
     },
     "metadata": {},
     "output_type": "display_data"
    }
   ],
   "source": [
    "text = widgets.Text(description='Question:', width=300)\n",
    "display(text)\n",
    "\n",
    "button = widgets.Button(description='Get an Answer')\n",
    "display(button)\n",
    "\n",
    "def on_button_click(b):\n",
    "    answer = q_to_a(model, text.value, n=5)\n",
    "    print('Answer:', answer)\n",
    "    \n",
    "button.on_click(on_button_click)\n",
    "\n",
    "\n",
    "# example -- Question- what is the population of India?\n",
    "# what is the national animal of India?\n",
    "# Which scientist proposed the three laws of motion?"
   ]
  },
  {
   "cell_type": "code",
   "execution_count": null,
   "metadata": {},
   "outputs": [],
   "source": []
  }
 ],
 "metadata": {
  "kernelspec": {
   "display_name": "Python 3",
   "language": "python",
   "name": "python3"
  },
  "language_info": {
   "codemirror_mode": {
    "name": "ipython",
    "version": 3
   },
   "file_extension": ".py",
   "mimetype": "text/x-python",
   "name": "python",
   "nbconvert_exporter": "python",
   "pygments_lexer": "ipython3",
   "version": "3.7.4"
  }
 },
 "nbformat": 4,
 "nbformat_minor": 2
}
